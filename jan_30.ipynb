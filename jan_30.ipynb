{
 "cells": [
  {
   "cell_type": "code",
   "execution_count": 1,
   "id": "42245c9c-f078-49cc-936d-b16e88bb3920",
   "metadata": {},
   "outputs": [],
   "source": [
    "# ASSIGNMENT - 2  30/01/23"
   ]
  },
  {
   "cell_type": "code",
   "execution_count": 10,
   "id": "dbf63e3d-66b8-4724-9d29-0169969a99a6",
   "metadata": {},
   "outputs": [
    {
     "name": "stdin",
     "output_type": "stream",
     "text": [
      "enter your percentage 85\n"
     ]
    },
    {
     "name": "stdout",
     "output_type": "stream",
     "text": [
      "Grade B\n"
     ]
    }
   ],
   "source": [
    "# question 1\n",
    "\n",
    "# taking percantage as input fron user\n",
    "percent = int(input(\"enter your percentage\"))\n",
    "# check if percentge is greater than 90\n",
    "if percent > 90 :\n",
    "    print (\"Grade A\")\n",
    "# check if percentge is greater than 80 & less than or equal to 90\n",
    "elif (percent > 80) and (percent <= 90):\n",
    "    print (\"Grade B\")\n",
    "# check if percentge is greater than or equal to 60 & less than or equal to 80\n",
    "elif (percent >= 60) and (percent <= 80):\n",
    "    print (\"Grade C\")\n",
    "# check if percentge is lesser than 60\n",
    "elif percent < 60 :\n",
    "    print (\"Grade D\")"
   ]
  },
  {
   "cell_type": "code",
   "execution_count": 14,
   "id": "d1af8b7c-101d-495f-b660-82c7061447fa",
   "metadata": {},
   "outputs": [
    {
     "name": "stdin",
     "output_type": "stream",
     "text": [
      "enter the price of bike 65000\n"
     ]
    },
    {
     "name": "stdout",
     "output_type": "stream",
     "text": [
      "Road tax is 10% i.e. Rs 6500.0\n"
     ]
    }
   ],
   "source": [
    "# question 2 \n",
    "\n",
    "#accepting cost price of bike\n",
    "cost_price = int(input(\"enter the price of bike\"))\n",
    "# check if cost price of bike is greater than 100000\n",
    "if cost_price > 100000:\n",
    "    print (\"Road tax is 15% i.e. Rs\" , 0.15*cost_price)\n",
    "# check if cost price of bike is less than or equal to 100000 & greater than 50000. \n",
    "if (cost_price <= 100000) and (cost_price > 50000):\n",
    "    print (\"Road tax is 10% i.e. Rs\" ,0.10*cost_price)\n",
    "# check if cost price of bike is lesser than or equal to 100000\n",
    "if cost_price <=  50000:\n",
    "    print (\"Road tax is 5% i.e. Rs\", 0.05*cost_price)"
   ]
  },
  {
   "cell_type": "code",
   "execution_count": 18,
   "id": "5033ec6e-97d7-42f3-9d40-60bbd9120a73",
   "metadata": {},
   "outputs": [
    {
     "name": "stdin",
     "output_type": "stream",
     "text": [
      "Enter the name of city Agra\n"
     ]
    },
    {
     "name": "stdout",
     "output_type": "stream",
     "text": [
      "Monument of the city is Taj Mahal\n"
     ]
    }
   ],
   "source": [
    "# question 3\n",
    "\n",
    "#accepting the name of city\n",
    "city_name = input (\"Enter the name of city\")\n",
    "# check if name of city is Delhi\n",
    "if city_name == \"Delhi\" :\n",
    "    print (\"Monument of the city is Red Fort\")\n",
    "# check if name of city is Agra\n",
    "elif city_name == \"Agra\" :\n",
    "     print (\"Monument of the city is Taj Mahal\")\n",
    "# check if name of city is Jaipur\n",
    "elif city_name == \"Jaipur\" :\n",
    "     print (\"Monument of the city is Jal Mahal\")"
   ]
  },
  {
   "cell_type": "code",
   "execution_count": 1,
   "id": "9a192b09-4e5e-402f-b7a5-4c4cfaa6eaeb",
   "metadata": {},
   "outputs": [
    {
     "name": "stdin",
     "output_type": "stream",
     "text": [
      "Enter the number 50\n"
     ]
    },
    {
     "name": "stdout",
     "output_type": "stream",
     "text": [
      "2\n"
     ]
    }
   ],
   "source": [
    "# question 4 \n",
    "\n",
    "# taking the no. to be divided by 3 \n",
    "num = int(input(\"Enter the number\"))\n",
    "j = 0\n",
    "for i in range(num):\n",
    "    if num/(3**i) > 10:\n",
    "        j=j+1\n",
    "print (j)\n",
    "   "
   ]
  },
  {
   "cell_type": "code",
   "execution_count": 12,
   "id": "095a7ac7-3653-4382-974f-054148635d25",
   "metadata": {},
   "outputs": [
    {
     "name": "stdin",
     "output_type": "stream",
     "text": [
      "enter your number 20\n"
     ]
    },
    {
     "name": "stdout",
     "output_type": "stream",
     "text": [
      "4\n"
     ]
    }
   ],
   "source": [
    "# question 5\n",
    "\n",
    "\n",
    "# while loop is used when the operation is needed to be executed for a certain condition , if that condition that condition fails operation stops.\n",
    "# while loop is used when we don't know how man times we need to perform same operation. for example\n",
    "\n",
    "num = int(input(\"enter your number\"))\n",
    "x = 0\n",
    "while num >= 2 :\n",
    "    num = num/2\n",
    "    x = x + 1\n",
    "print (x)\n",
    "\n",
    "# here the number will be divided by 2 until & unless it becomes smaller than 2 and x gives the no of times loop performed.\n",
    "\n"
   ]
  },
  {
   "cell_type": "code",
   "execution_count": 10,
   "id": "1056746e-d756-45c4-bb6b-ed6786f29ab7",
   "metadata": {},
   "outputs": [
    {
     "name": "stdin",
     "output_type": "stream",
     "text": [
      "Enter no of rows 5\n"
     ]
    },
    {
     "name": "stdout",
     "output_type": "stream",
     "text": [
      "* \n",
      "\n",
      "* * \n",
      "\n",
      "* * * \n",
      "\n",
      "* * * * \n",
      "\n",
      "* * * * * \n",
      "\n"
     ]
    }
   ],
   "source": [
    "# question 6\n",
    "n = int (input(\"Enter no of rows\"))\n",
    "i = 1 \n",
    "while i<= n:\n",
    "    j = 1\n",
    "    while j <= i :\n",
    "        print (\"*\" , end = \" \")\n",
    "        j= j+1\n",
    "    print(\"\\n\")\n",
    "    i=i+1   \n",
    "    \n",
    "    \n",
    "\n",
    "\n"
   ]
  },
  {
   "cell_type": "code",
   "execution_count": 2,
   "id": "67123d6c-2974-42d0-95e9-93bb0c62ea60",
   "metadata": {},
   "outputs": [
    {
     "name": "stdin",
     "output_type": "stream",
     "text": [
      "Enter no of rows 5\n"
     ]
    },
    {
     "name": "stdout",
     "output_type": "stream",
     "text": [
      "* * * * * \n",
      "\n",
      "* * * * \n",
      "\n",
      "* * * \n",
      "\n",
      "* * \n",
      "\n",
      "* \n",
      "\n"
     ]
    }
   ],
   "source": [
    "n = int (input(\"Enter no of rows\"))\n",
    "i = 1 \n",
    "while i <= n:\n",
    "    j = n\n",
    "    while j >= i:\n",
    "        print (\"*\" , end = \" \")\n",
    "        j= j-1\n",
    "    print(\"\\n\")\n",
    "    i=i+1   \n",
    "    "
   ]
  },
  {
   "cell_type": "code",
   "execution_count": 3,
   "id": "ba820d40-8ce3-4abb-bd00-bad0681f542c",
   "metadata": {},
   "outputs": [
    {
     "name": "stdin",
     "output_type": "stream",
     "text": [
      "Enter no of rows 11\n"
     ]
    },
    {
     "name": "stdout",
     "output_type": "stream",
     "text": [
      "* * * * * * \n",
      "\n",
      "* * * * * \n",
      "\n",
      "* * * * \n",
      "\n",
      "* * * \n",
      "\n",
      "* * \n",
      "\n",
      "* \n",
      "\n",
      "* * \n",
      "\n",
      "* * * \n",
      "\n",
      "* * * * \n",
      "\n",
      "* * * * * \n",
      "\n",
      "* * * * * * \n",
      "\n"
     ]
    }
   ],
   "source": [
    "n = int (input(\"Enter no of rows\"))\n",
    "i = 1 \n",
    "while i <= n:\n",
    "    j = n/2\n",
    "    while j >= i:\n",
    "        print (\"*\" , end = \" \")\n",
    "        j= j-1\n",
    "    while j <= i:\n",
    "        print (\"*\" , end = \" \")\n",
    "        j= j+1\n",
    "    print(\"\\n\")\n",
    "    i=i+1 "
   ]
  },
  {
   "cell_type": "code",
   "execution_count": 4,
   "id": "70f6e970-8dc8-409c-ab54-835d18d8763c",
   "metadata": {},
   "outputs": [
    {
     "name": "stdout",
     "output_type": "stream",
     "text": [
      "10\n",
      "9\n",
      "8\n",
      "7\n",
      "6\n",
      "5\n",
      "4\n",
      "3\n",
      "2\n",
      "1\n"
     ]
    }
   ],
   "source": [
    "# question \n",
    "\n",
    "x = 10\n",
    "while x > 0:\n",
    "    print (x)\n",
    "    x= x-1"
   ]
  },
  {
   "cell_type": "code",
   "execution_count": null,
   "id": "bc08db5c-a005-4dd6-9ee3-bbcf275de258",
   "metadata": {},
   "outputs": [],
   "source": []
  }
 ],
 "metadata": {
  "kernelspec": {
   "display_name": "Python 3 (ipykernel)",
   "language": "python",
   "name": "python3"
  },
  "language_info": {
   "codemirror_mode": {
    "name": "ipython",
    "version": 3
   },
   "file_extension": ".py",
   "mimetype": "text/x-python",
   "name": "python",
   "nbconvert_exporter": "python",
   "pygments_lexer": "ipython3",
   "version": "3.10.8"
  }
 },
 "nbformat": 4,
 "nbformat_minor": 5
}
