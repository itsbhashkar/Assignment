{
 "cells": [
  {
   "cell_type": "code",
   "execution_count": 1,
   "id": "a54e071f-814f-4fe4-adeb-4d7de0bcc0b6",
   "metadata": {},
   "outputs": [],
   "source": [
    "#  Assignment 01 - 29/01/23"
   ]
  },
  {
   "cell_type": "code",
   "execution_count": 2,
   "id": "4afed3cb-066c-4d5e-9f7b-67adadfac359",
   "metadata": {},
   "outputs": [],
   "source": [
    "# 1.   Guido van Rossum developed Python language."
   ]
  },
  {
   "cell_type": "code",
   "execution_count": 3,
   "id": "79d8c84a-cae3-40fb-ac48-58758768d64a",
   "metadata": {},
   "outputs": [],
   "source": [
    "# 2.   Python supports  Object-oriented programming and structured programming."
   ]
  },
  {
   "cell_type": "code",
   "execution_count": 4,
   "id": "f8af400e-bb28-4c5d-832c-2708a985ca0b",
   "metadata": {},
   "outputs": [],
   "source": [
    "# 3.   Yes, python is case sensitive while dealing  with identifiers."
   ]
  },
  {
   "cell_type": "code",
   "execution_count": 5,
   "id": "f5a75e73-3518-48e9-ad05-7d36fb9ff4f3",
   "metadata": {},
   "outputs": [],
   "source": [
    "# 4.   The correct expansion of python file is .py "
   ]
  },
  {
   "cell_type": "code",
   "execution_count": 7,
   "id": "92c07515-a0d5-4a38-9e21-79b19a4d2f1a",
   "metadata": {},
   "outputs": [],
   "source": [
    "# 5.   python is interpreted language"
   ]
  },
  {
   "cell_type": "code",
   "execution_count": 8,
   "id": "fb0a49d3-668a-4b57-8d77-25a93d8b0c7f",
   "metadata": {},
   "outputs": [],
   "source": [
    "# 6.   Indentation"
   ]
  },
  {
   "cell_type": "code",
   "execution_count": 9,
   "id": "1db79e15-3903-447e-8af6-e6214a68ca51",
   "metadata": {},
   "outputs": [],
   "source": [
    "# 7.   # character is used to do single line comments in python."
   ]
  },
  {
   "cell_type": "code",
   "execution_count": 10,
   "id": "6908c09d-3c8b-4192-954c-868fbc2c4212",
   "metadata": {},
   "outputs": [],
   "source": [
    "# 8.   sys.version function can help us to find the version of python that we are currently working on."
   ]
  },
  {
   "cell_type": "code",
   "execution_count": 11,
   "id": "b000207d-3389-4406-9307-260dda6d20ee",
   "metadata": {},
   "outputs": [],
   "source": [
    "# 9.   Python support the creation of anonymous functions at runtime using a construct called lambda."
   ]
  },
  {
   "cell_type": "code",
   "execution_count": 12,
   "id": "103c62eb-5e3c-41b5-b3cd-5a58c50cdfdc",
   "metadata": {},
   "outputs": [],
   "source": [
    "# 10.  pip stands for preferred installer program."
   ]
  },
  {
   "cell_type": "code",
   "execution_count": 13,
   "id": "741b3087-fd4e-4282-946e-8bdcc4ce1051",
   "metadata": {},
   "outputs": [],
   "source": [
    "# 11.  input() , print() , len() , type() , return()"
   ]
  },
  {
   "cell_type": "code",
   "execution_count": 14,
   "id": "7b123b94-bc91-4643-8239-443eae98a503",
   "metadata": {},
   "outputs": [],
   "source": [
    "# 12.  The maximum possible length of an identifier in python is 79 characters."
   ]
  },
  {
   "cell_type": "code",
   "execution_count": 15,
   "id": "c0830b1f-afb8-4d46-bb99-74223894d2b5",
   "metadata": {},
   "outputs": [],
   "source": [
    "# 13.  Free and Open-Source ; Easy to read, learn and write ; Vast libraries support ; Portability."
   ]
  },
  {
   "cell_type": "code",
   "execution_count": 16,
   "id": "e6b8f11e-290a-42f6-bc6e-bdbb4c894785",
   "metadata": {},
   "outputs": [],
   "source": [
    "# 14.  Python involves a private heap containing all Python objects and data structures. The management of this private heap is ensured internally by the Python memory manager."
   ]
  },
  {
   "cell_type": "code",
   "execution_count": 17,
   "id": "7df13aa0-0c9f-4fcb-adc1-97332b3f7e16",
   "metadata": {},
   "outputs": [],
   "source": [
    "# 15.  Install python from the official site.\n",
    "#      After this, install it on your PC. Look for the location where PYTHON has been installed on your PC using the following command on your command prompt: cmd python.\n",
    "#      Then go to advanced system settings and add a new variable and name it as PYTHON_NAME and paste the copied path.\n",
    "#      Look for the path variable, select its value and select ‘edit’.\n",
    "#      Add a semicolon towards the end of the value if it’s not present and then type %PYTHON_HOME%"
   ]
  },
  {
   "cell_type": "code",
   "execution_count": 19,
   "id": "38f8ca67-b2e5-4943-9b12-cc76d34ff7de",
   "metadata": {},
   "outputs": [],
   "source": [
    "# 16.  Yes, indentation is required in python."
   ]
  },
  {
   "cell_type": "code",
   "execution_count": null,
   "id": "1da69cc1-0fbe-4a46-9faf-4fcc1a3cd1bc",
   "metadata": {},
   "outputs": [],
   "source": []
  }
 ],
 "metadata": {
  "kernelspec": {
   "display_name": "Python 3 (ipykernel)",
   "language": "python",
   "name": "python3"
  },
  "language_info": {
   "codemirror_mode": {
    "name": "ipython",
    "version": 3
   },
   "file_extension": ".py",
   "mimetype": "text/x-python",
   "name": "python",
   "nbconvert_exporter": "python",
   "pygments_lexer": "ipython3",
   "version": "3.10.8"
  }
 },
 "nbformat": 4,
 "nbformat_minor": 5
}
